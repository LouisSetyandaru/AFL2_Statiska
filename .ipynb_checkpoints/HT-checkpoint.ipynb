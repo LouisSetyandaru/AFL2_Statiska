{
 "cells": [
  {
   "cell_type": "code",
   "execution_count": 13,
   "id": "eab19db8-fde7-4ba8-903f-b48a77d205a8",
   "metadata": {},
   "outputs": [
    {
     "name": "stdout",
     "output_type": "stream",
     "text": [
      "Standard deviation of the pooled sample = 129481481481481440.0000\n",
      "t_calc = 0.490\n",
      "t_table = 2.262\n",
      "Fail to Reject H0. There is no significant difference in the average prices between Mercedes-Benz and BMW.\n"
     ]
    }
   ],
   "source": [
    "import numpy as np\n",
    "import pandas as pd\n",
    "from scipy import stats as st\n",
    "\n",
    "# Load the data\n",
    "url = \"https://raw.githubusercontent.com/LouisSetyandaru/AFL2_Statiska/main/data_cars.csv\"\n",
    "data = pd.read_csv(url)\n",
    "\n",
    "# Extract price data for Mercedes-Benz and BMW\n",
    "price_mercedes = data[data['CarBrand'] == 'Mercedes-Benz']['PriceInRupiah']\n",
    "price_bmw = data[data['CarBrand'] == 'BMW']['PriceInRupiah']\n",
    "\n",
    "# Step 1: State the null and alternate hypothesis\n",
    "# H0: Miu_Mercedes = Miu_BMW\n",
    "# H1: Miu_Mercedes != Miu_BMW\n",
    "\n",
    "# Step 2: Select the level of significance\n",
    "alpha = 0.05\n",
    "tail = 2\n",
    "Xbar_mercedes = np.mean(price_mercedes)\n",
    "Xbar_bmw = np.mean(price_bmw)\n",
    "\n",
    "std_dev_sample_mercedes = np.std(price_mercedes, ddof=1)\n",
    "std_dev_sample_bmw = np.std(price_bmw, ddof=1)\n",
    "n_mercedes = len(price_mercedes)\n",
    "n_bmw = len(price_bmw)\n",
    "dof = n_mercedes + n_bmw - 2\n",
    "\n",
    "std_dev_pooled_sample = ((n_mercedes - 1) * np.power(std_dev_sample_mercedes, 2) + \n",
    "                        (n_bmw - 1) * np.power(std_dev_sample_bmw, 2)) / dof\n",
    "print(\"Standard deviation of the pooled sample = {:.4f}\".format(std_dev_pooled_sample))\n",
    "\n",
    "# Step 3: Determine the test statistics \n",
    "# Independent Samples\n",
    "# Because the population standard deviations are not known but are assumed to be equal, \n",
    "# we use the pooled t-test\n",
    "\n",
    "# Step 4: Formulate the decision rule\n",
    "# Reject H0 if t_calc > t_table atau t_calc < -t_table\n",
    "# Alternatively we could use the absolute value of |t_calc| > t_table\n",
    "\n",
    "# Step 5: Make decision regarding H0\n",
    "t_calc = (Xbar_mercedes - Xbar_bmw) / np.sqrt(std_dev_pooled_sample * (1/n_mercedes + 1/n_bmw))\n",
    "t_table = st.t.isf(alpha/2, dof)\n",
    "print(\"t_calc = {:.3f}\".format(t_calc))\n",
    "print(\"t_table = {:.3f}\".format(t_table))\n",
    "\n",
    "# Step 6: Interpret the result\n",
    "if (t_calc > t_table) or (t_calc < -t_table):\n",
    "    print(\"H0 rejected. There is a significant difference in the average prices between Mercedes-Benz and BMW.\")\n",
    "else:\n",
    "    print(\"Fail to Reject H0. There is no significant difference in the average prices between Mercedes-Benz and BMW.\")\n"
   ]
  },
  {
   "cell_type": "code",
   "execution_count": 14,
   "id": "40c77e07-2186-4fbc-bba1-2ad12d176aba",
   "metadata": {},
   "outputs": [
    {
     "name": "stdout",
     "output_type": "stream",
     "text": [
      "Standard deviation of the pooled sample = 4070.8329\n",
      "t_calc = -8.915\n",
      "t_table = 1.981\n",
      "H0 rejected. There is a significant difference in the average horsepower between 4-cylinder and 6-cylinder cars.\n"
     ]
    }
   ],
   "source": [
    "import pandas as pd\n",
    "import numpy as np\n",
    "from scipy import stats\n",
    "\n",
    "# Step 1: State the null and alternate hypothesis\n",
    "# H0: Tidak ada perbedaan signifikan antara rata-rata horsepower mobil 4 silinder dengan mobil 6 silinder\n",
    "# H1: Ada perbedaan signifikan antara rata-rata horsepower mobil 4 silinder dengan mobil 6 silinder\n",
    "\n",
    "# Step 2: Select the level of significance\n",
    "alpha = 0.05\n",
    "tail = 2\n",
    "\n",
    "# Step 3: Load the data\n",
    "# Extract horsepower data for 4-cylinder and 6-cylinder cars\n",
    "url = \"https://raw.githubusercontent.com/LouisSetyandaru/AFL2_Statiska/main/data_cars.csv\"\n",
    "data = pd.read_csv(url)\n",
    "\n",
    "horsepower_4cyl = data[data['TotalEngineCylinders'] == 4]['HorsePower']\n",
    "horsepower_6cyl = data[data['TotalEngineCylinders'] == 6]['HorsePower']\n",
    "\n",
    "Xbar_4cyl = np.mean(horsepower_4cyl)\n",
    "Xbar_6cyl = np.mean(horsepower_6cyl)\n",
    "\n",
    "std_dev_sample_4cyl = np.std(horsepower_4cyl, ddof=1)\n",
    "std_dev_sample_6cyl = np.std(horsepower_6cyl, ddof=1)\n",
    "n_4cyl = len(horsepower_4cyl)\n",
    "n_6cyl = len(horsepower_6cyl)\n",
    "dof = n_4cyl + n_6cyl - 2\n",
    "\n",
    "std_dev_pooled_sample = ((n_4cyl - 1) * np.power(std_dev_sample_4cyl, 2) + \n",
    "                        (n_6cyl - 1) * np.power(std_dev_sample_6cyl, 2)) / dof\n",
    "print(\"Standard deviation of the pooled sample = {:.4f}\".format(std_dev_pooled_sample))\n",
    "\n",
    "# Step 4: Determine the test statistics\n",
    "t_calc = (Xbar_4cyl - Xbar_6cyl) / np.sqrt(std_dev_pooled_sample * (1/n_4cyl + 1/n_6cyl))\n",
    "t_table = st.t.isf(alpha/2, dof)\n",
    "print(\"t_calc = {:.3f}\".format(t_calc))\n",
    "print(\"t_table = {:.3f}\".format(t_table))\n",
    "\n",
    "# Step 5: State the decision rule\n",
    "\n",
    "# Step 6: Make decision regarding H0\n",
    "if (t_calc > t_table) or (t_calc < -t_table):\n",
    "    print(\"H0 rejected. There is a significant difference in the average horsepower between 4-cylinder and 6-cylinder cars.\")\n",
    "else:\n",
    "    print(\"Fail to Reject H0. There is no significant difference in the average horsepower between 4-cylinder and 6-cylinder cars.\")\n"
   ]
  },
  {
   "cell_type": "code",
   "execution_count": 17,
   "id": "b14f652e-1ee9-48a5-aff0-8072c8cc1fad",
   "metadata": {},
   "outputs": [
    {
     "name": "stdout",
     "output_type": "stream",
     "text": [
      "t_calc = 0.031\n",
      "t_table = 1.734\n",
      "Standard deviation of the pooled sample = 10.2870\n",
      "Fail to Reject H0. There is no significant difference in fuel consumption between Toyota and Honda.\n"
     ]
    }
   ],
   "source": [
    "import pandas as pd\n",
    "import numpy as np\n",
    "from scipy import stats\n",
    "\n",
    "# Step 1: State the null and alternate hypothesis\n",
    "# H0: Rata-rata konsumsi bahan bakar Toyota lebih boros atau sama dengan rata-rata konsumsi bahan bakar mobil Honda\n",
    "# H1: Rata-rata konsumsi bahan bakar Toyota lebih irit dengan rata-rata konsumsi bahan bakar mobil Honda\n",
    "\n",
    "# Step 2: Select the level of significance\n",
    "alpha = 0.05\n",
    "tail = 1\n",
    "\n",
    "# Step 3: Load the data\n",
    "url = \"https://raw.githubusercontent.com/LouisSetyandaru/AFL2_Statiska/main/data_cars.csv\"\n",
    "data = pd.read_csv(url)\n",
    "\n",
    "fuel_toyota = data[data['CarBrand'].str.contains('Toyota')]['FuelConsumptionPerLiter']\n",
    "fuel_honda = data[data['CarBrand'].str.contains('Honda')]['FuelConsumptionPerLiter']\n",
    "\n",
    "\n",
    "# Step 4: Determine the test statistics\n",
    "Xbar_toyota = np.mean(fuel_toyota)\n",
    "Xbar_honda = np.mean(fuel_honda)\n",
    "std_dev_sample_toyota = np.std(fuel_toyota, ddof=1)\n",
    "std_dev_sample_honda = np.std(fuel_honda, ddof=1)\n",
    "n_toyota = len(fuel_toyota)\n",
    "n_honda = len(fuel_honda)\n",
    "dof = n_toyota + n_honda - 2\n",
    "\n",
    "# Step 5: State the decision rule (Reject HO if t_calc > t-table)\n",
    "t_calc = (Xbar_toyota - Xbar_honda) / np.sqrt(std_dev_pooled_sample * (1/n_toyota + 1/n_honda))\n",
    "t_table = st.t.isf(alpha, dof)\n",
    "print(\"t_calc = {:.3f}\".format(t_calc))\n",
    "print(\"t_table = {:.3f}\".format(t_table))\n",
    "std_dev_pooled_sample = ((n_toyota - 1) * np.power(std_dev_sample_toyota, 2) + \n",
    "                        (n_honda - 1) * np.power(std_dev_sample_honda, 2)) / dof\n",
    "print(\"Standard deviation of the pooled sample = {:.4f}\".format(std_dev_pooled_sample))\n",
    "\n",
    "\n",
    "# Step 6: Make decision regarding H0\n",
    "if t_calc < -t_table:\n",
    "    print(\"H0 rejected. Toyota has a significantly more fuel-efficient consumption compared to Honda.\")\n",
    "else:\n",
    "    print(\"Fail to Reject H0. There is no significant difference in fuel consumption between Toyota and Honda.\")"
   ]
  },
  {
   "cell_type": "code",
   "execution_count": 19,
   "id": "adb0bb8f-53e7-41f5-b2d1-e03324e16eef",
   "metadata": {},
   "outputs": [
    {
     "name": "stdout",
     "output_type": "stream",
     "text": [
      "t_calc = 3.597\n",
      "t_table = 2.353\n",
      "H0 rejected. The average top speed of Porsche is significantly greater than 200 kph.\n"
     ]
    }
   ],
   "source": [
    "import pandas as pd\n",
    "import numpy as np\n",
    "from scipy import stats\n",
    "\n",
    "# Step 1: State the null and alternate hypothesis\n",
    "# H0: Rata-rata kecepatan maksimum mobil Porsche di bawah atau sama dengan 200 kph\n",
    "# H1: Rata-rata kecepatan maksimum mobil Porsche lebih dari 200 kph\n",
    "\n",
    "# Step 2: Select the level of significance\n",
    "alpha = 0.05  # Level of significance\n",
    "\n",
    "# Step 3: Load the data\n",
    "url = \"https://raw.githubusercontent.com/LouisSetyandaru/AFL2_Statiska/main/data_cars.csv\"\n",
    "data = pd.read_csv(url)\n",
    "\n",
    "# Extract top speed data for Porsche\n",
    "top_speed_porsche = data[data['CarBrand'] == 'Porsche']['TopSpeed']\n",
    "\n",
    "# Step 4: Determine the test statistics\n",
    "Xbar_porsche = np.mean(top_speed_porsche)\n",
    "std_dev_sample_porsche = np.std(top_speed_porsche, ddof=1)\n",
    "n_porsche = len(top_speed_porsche)\n",
    "dof = n_porsche - 1\n",
    "\n",
    "t_calc = (Xbar_porsche - 200) / (std_dev_sample_porsche / np.sqrt(n_porsche))\n",
    "t_table = stats.t.isf(alpha, dof)\n",
    "print(\"t_calc = {:.3f}\".format(t_calc))\n",
    "print(\"t_table = {:.3f}\".format(t_table))\n",
    "\n",
    "# Step 5: State the decision rule (Reject HO if t_calc > t-table)\n",
    "# We will check the t-statistic against the critical t-value for alpha = 0.05 and degrees of freedom = n - 1\n",
    "deg_freedom = n_porsche - 1\n",
    "critical_t_value = stats.t.ppf(1 - alpha, deg_freedom)\n",
    "\n",
    "# Step 6: Make decision regarding H0\n",
    "if t_calc > critical_t_value:\n",
    "    print(\"H0 rejected. The average top speed of Porsche is significantly greater than 200 kph.\")\n",
    "else:\n",
    "    print(\"Fail to Reject H0. The average top speed of Porsche is not significantly greater than 200 kph.\")\n"
   ]
  },
  {
   "cell_type": "code",
   "execution_count": 20,
   "id": "dfbab33b-daa9-4632-83ac-74116aadeafc",
   "metadata": {},
   "outputs": [
    {
     "name": "stdout",
     "output_type": "stream",
     "text": [
      "t_calc = -4.000\n",
      "t_table = 2.920\n",
      "H0 rejected. The average 0-100 kph time of Jaguar is significantly less than 7 seconds.\n"
     ]
    }
   ],
   "source": [
    "import pandas as pd\n",
    "from scipy import stats\n",
    "\n",
    "# Step 1: State the null and alternate hypothesis\n",
    "# H0: Rata-rata waktu mobil Jaguar 0-100 kph lebih atau sama dengan 7 detik\n",
    "# H1: Rata-rata waktu mobil Jaguar 0-100 kph kurang dari 7 detik\n",
    "\n",
    "# Step 2: Select the level of significance\n",
    "alpha = 0.05  # Level of significance\n",
    "\n",
    "# Step 3: Load the data\n",
    "url = \"https://raw.githubusercontent.com/LouisSetyandaru/AFL2_Statiska/main/data_cars.csv\"\n",
    "data = pd.read_csv(url)\n",
    "# Extract 0-100 kph time data for Jaguar\n",
    "time_jaguar = data[data['CarBrand'] == 'Jaguar']['0To100Kph']\n",
    "\n",
    "# Step 4: Determine the test statistics\n",
    "Xbar_jaguar = np.mean(time_jaguar)\n",
    "std_dev_sample_jaguar = np.std(time_jaguar, ddof=1)\n",
    "n_jaguar = len(time_jaguar)\n",
    "dof = n_jaguar - 1\n",
    "\n",
    "# Step 5: State the decision rule \n",
    "t_calc = (Xbar_jaguar - 7) / (std_dev_sample_jaguar / np.sqrt(n_jaguar))\n",
    "t_table = st.t.isf(alpha, dof)\n",
    "print(\"t_calc = {:.3f}\".format(t_calc))\n",
    "print(\"t_table = {:.3f}\".format(t_table))\n",
    "\n",
    "# Step 6: Make decision regarding H0\n",
    "if t_calc < -t_table:\n",
    "    print(\"H0 rejected. The average 0-100 kph time of Jaguar is significantly less than 7 seconds.\")\n",
    "else:\n",
    "    print(\"Fail to Reject H0. There is no significant difference in the average 0-100 kph time of Jaguar compared to 7 seconds.\")"
   ]
  },
  {
   "cell_type": "code",
   "execution_count": 2,
   "id": "91747129-2581-46eb-afa4-d2741d0703f4",
   "metadata": {},
   "outputs": [
    {
     "name": "stdout",
     "output_type": "stream",
     "text": [
      "   CarName  0To100Kph\n",
      "29  F-Pace          6\n",
      "30      XE          6\n",
      "31      XF          5\n"
     ]
    }
   ],
   "source": [
    "import pandas as pd\n",
    "\n",
    "# Load the data\n",
    "url = \"https://raw.githubusercontent.com/LouisSetyandaru/AFL2_Statiska/main/data_cars.csv\"\n",
    "data = pd.read_csv(url)\n",
    "\n",
    "# Filter data for Jaguar F-Pace\n",
    "jaguar_data = data[data['CarName'] == 'F-Pace'][['CarName', '0To100Kph']]\n",
    "print(jaguar_data)\n"
   ]
  },
  {
   "cell_type": "code",
   "execution_count": 12,
   "id": "dd71a6ab-6256-457c-bb3b-832d9cee667c",
   "metadata": {},
   "outputs": [
    {
     "name": "stdout",
     "output_type": "stream",
     "text": [
      "Rata-rata harga mobil Mercedes-Benz: 1066666666.67 Rupiah\n",
      "Rata-rata harga mobil BMW: 960000000.00 Rupiah\n"
     ]
    }
   ],
   "source": [
    "import pandas as pd\n",
    "\n",
    "# Load the data\n",
    "url = \"https://raw.githubusercontent.com/LouisSetyandaru/AFL2_Statiska/main/data_cars.csv\"\n",
    "data = pd.read_csv(url)\n",
    "\n",
    "# Calculate the average price for Mercedes-Benz and BMW\n",
    "avg_price_mercedes = data[data['CarBrand'] == 'Mercedes-Benz']['PriceInRupiah'].mean()\n",
    "avg_price_bmw = data[data['CarBrand'] == 'BMW']['PriceInRupiah'].mean()\n",
    "\n",
    "print(f\"Rata-rata harga mobil Mercedes-Benz: {avg_price_mercedes:.2f} Rupiah\")\n",
    "print(f\"Rata-rata harga mobil BMW: {avg_price_bmw:.2f} Rupiah\")\n"
   ]
  },
  {
   "cell_type": "code",
   "execution_count": null,
   "id": "24a48cef-2755-411f-a8a4-74e1dc17c688",
   "metadata": {},
   "outputs": [],
   "source": []
  }
 ],
 "metadata": {
  "kernelspec": {
   "display_name": "Python 3 (ipykernel)",
   "language": "python",
   "name": "python3"
  },
  "language_info": {
   "codemirror_mode": {
    "name": "ipython",
    "version": 3
   },
   "file_extension": ".py",
   "mimetype": "text/x-python",
   "name": "python",
   "nbconvert_exporter": "python",
   "pygments_lexer": "ipython3",
   "version": "3.11.8"
  }
 },
 "nbformat": 4,
 "nbformat_minor": 5
}
