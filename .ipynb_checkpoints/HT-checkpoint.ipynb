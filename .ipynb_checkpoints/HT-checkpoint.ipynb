{
 "cells": [
  {
   "cell_type": "code",
   "execution_count": 10,
   "id": "c31a7633-1551-443e-8e2a-cfe0ee0fbb90",
   "metadata": {},
   "outputs": [
    {
     "name": "stdout",
     "output_type": "stream",
     "text": [
      "Test Statistic: 3.2643011472911376\n",
      "P-value: 0.024503054690601045\n",
      "Decision: Reject null hypothesis (H0)\n",
      "There is sufficient evidence to reject the null hypothesis. There is a difference in performance (HorsePower) among cars with different number of cylinders.\n"
     ]
    }
   ],
   "source": [
    "import pandas as pd\n",
    "import scipy.stats as stats\n",
    "\n",
    "# Define the data\n",
    "data = {\n",
    "    'TotalEngineCylinders': [4, 4, 4, 6, 4, 4, 6, 4, 6, 4, 6, 8, 4, 4, 4, 4, 4, 4, 6, 4, 4, 4, 4, 4, 6, 3, 4, 4, 8, 4, 4, 6, 4, 4, 6, 4, 6, 6, 4, 4, 4, 4, 4, 4, 4, 6, 6, 4, 4, 6, 4, 6, 4, 4, 4, 4, 4, 6, 4, 4, 6, 6, 6, 6, 4, 4, 4, 4, 4, 4, 6, 4, 4, 4, 4, 4, 6, 8, 4, 6, 4, 4, 6, 4, 6, 8, 4, 6, 4, 4, 6, 4, 4, 6, 6, 6, 4, 4, 6, 8, 4, 6, 4, 4, 4],\n",
    "    'HorsePower': [119, 174, 168, 301, 192, 201, 335, 255, 335, 255, 362, 463, 147, 174, 147, 184, 184, 261, 335, 188, 221, 255, 228, 248, 335, 123, 160, 187, 450, 247, 247, 296, 184, 261, 335, 340, 252, 450, 330, 150, 250, 320, 187, 250, 320, 147, 181, 235, 201, 290, 147, 185, 365, 190, 141, 280, 400, 271, 180, 295, 285, 186, 227, 148, 187, 227, 138, 169, 115, 260, 284, 170, 147, 180, 120, 147, 120, 368, 382, 106, 203, 381, 121, 182, 120, 208, 301, 134, 302, 416, 241, 181, 311, 300, 400, 268, 295, 400, 420, 177, 187, 316, 316, 316, 316, 316, 252, 375, 420, 152, 78, 148, 179, 181]\n",
    "}\n",
    "\n",
    "# Trim the HorsePower array to match the length of TotalEngineCylinders\n",
    "data['HorsePower'] = data['HorsePower'][:len(data['TotalEngineCylinders'])]\n",
    "\n",
    "# Convert dictionary to DataFrame\n",
    "df = pd.DataFrame(data)\n",
    "\n",
    "# Step 1: State the null and alternate hypothesis\n",
    "# Null Hypothesis (H0): There is no difference in performance (HorsePower) among cars with different number of cylinders.\n",
    "# Alternative Hypothesis (H1): There is a difference in performance (HorsePower) among cars with different number of cylinders.\n",
    "\n",
    "# Step 2: Select the level of significance\n",
    "alpha = 0.05\n",
    "\n",
    "# Step 3: Determine the test statistic\n",
    "# Using ANOVA to test the difference in average HorsePower among cars with different number of cylinders\n",
    "f_stat, p_value = stats.f_oneway(df[df['TotalEngineCylinders'] == 3]['HorsePower'],\n",
    "                                 df[df['TotalEngineCylinders'] == 4]['HorsePower'],\n",
    "                                 df[df['TotalEngineCylinders'] == 6]['HorsePower'],\n",
    "                                 df[df['TotalEngineCylinders'] == 8]['HorsePower'])\n",
    "\n",
    "# Step 4: Formulate the decision rule\n",
    "if p_value < alpha:\n",
    "    decision = \"Reject null hypothesis (H0)\"\n",
    "else:\n",
    "    decision = \"Fail to reject null hypothesis (H0)\"\n",
    "\n",
    "# Step 5: Make the decision regarding H0\n",
    "print(f\"Test Statistic: {f_stat}\")\n",
    "print(f\"P-value: {p_value}\")\n",
    "print(f\"Decision: {decision}\")\n",
    "\n",
    "# Step 6: Interpret the result\n",
    "if p_value < alpha:\n",
    "    print(\"There is sufficient evidence to reject the null hypothesis. There is a difference in performance (HorsePower) among cars with different number of cylinders.\")\n",
    "else:\n",
    "    print(\"There is not enough evidence to reject the null hypothesis. There is no difference in performance (HorsePower) among cars with different number of cylinders.\")\n"
   ]
  },
  {
   "cell_type": "code",
   "execution_count": 8,
   "id": "68f7d861-66e6-4006-8390-67ac820c457b",
   "metadata": {},
   "outputs": [
    {
     "name": "stdout",
     "output_type": "stream",
     "text": [
      "   TotalEngineCylinders  HorsePower\n",
      "0                     4         119\n",
      "1                     4         174\n",
      "2                     4         168\n",
      "3                     6         301\n",
      "4                     4         192\n"
     ]
    }
   ],
   "source": [
    "import pandas as pd\n",
    "\n",
    "# Define the data\n",
    "data = {\n",
    "    'TotalEngineCylinders': [4, 4, 4, 6, 4, 4, 6, 4, 6, 4, 6, 8, 4, 4, 4, 4, 4, 4, 6, 4, 4, 4, 4, 4, 6, 3, 4, 4, 8, 4, 4, 6, 4, 4, 6, 4, 6, 6, 4, 4, 4, 4, 4, 4, 4, 6, 6, 4, 4, 6, 4, 6, 4, 4, 4, 4, 4, 6, 4, 4, 6, 6, 6, 6, 4, 4, 4, 4, 4, 4, 6, 4, 4, 4, 4, 4, 6, 8, 4, 6, 4, 4, 6, 4, 6, 8, 4, 6, 4, 4, 6, 4, 4, 6, 6, 6, 4, 4, 6, 8, 4, 6, 4, 4, 4],\n",
    "    'HorsePower': [119, 174, 168, 301, 192, 201, 335, 255, 335, 255, 362, 463, 147, 174, 147, 184, 184, 261, 335, 188, 221, 255, 228, 248, 335, 123, 160, 187, 450, 247, 247, 296, 184, 261, 335, 340, 252, 450, 330, 150, 250, 320, 187, 250, 320, 147, 181, 235, 201, 290, 147, 185, 365, 190, 141, 280, 400, 271, 180, 295, 285, 186, 227, 148, 187, 227, 138, 169, 115, 260, 284, 170, 147, 180, 120, 147, 120, 368, 382, 106, 203, 381, 121, 182, 120, 208, 301, 134, 302, 416, 241, 181, 311, 300, 400, 268, 295, 400, 420, 177, 187, 316, 316, 316, 316, 316, 252, 375, 420, 152, 78, 148, 179, 181]\n",
    "}\n",
    "\n",
    "# Trim the HorsePower array to match the length of TotalEngineCylinders\n",
    "data['HorsePower'] = data['HorsePower'][:len(data['TotalEngineCylinders'])]\n",
    "\n",
    "# Convert dictionary to DataFrame\n",
    "df = pd.DataFrame(data)\n",
    "\n",
    "# Select the level of significance\n",
    "alpha = 0.05\n",
    "\n",
    "# Print the DataFrame\n",
    "print(df.head())\n"
   ]
  },
  {
   "cell_type": "code",
   "execution_count": null,
   "id": "a0bdaa94-1b94-4fa7-b0d6-a900af247ec4",
   "metadata": {},
   "outputs": [],
   "source": []
  }
 ],
 "metadata": {
  "kernelspec": {
   "display_name": "Python 3 (ipykernel)",
   "language": "python",
   "name": "python3"
  },
  "language_info": {
   "codemirror_mode": {
    "name": "ipython",
    "version": 3
   },
   "file_extension": ".py",
   "mimetype": "text/x-python",
   "name": "python",
   "nbconvert_exporter": "python",
   "pygments_lexer": "ipython3",
   "version": "3.11.8"
  }
 },
 "nbformat": 4,
 "nbformat_minor": 5
}
